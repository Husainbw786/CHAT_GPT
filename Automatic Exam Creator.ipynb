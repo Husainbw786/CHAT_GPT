{
 "cells": [
  {
   "cell_type": "code",
   "execution_count": 1,
   "id": "4efc2174",
   "metadata": {
    "collapsed": true
   },
   "outputs": [
    {
     "name": "stdout",
     "output_type": "stream",
     "text": [
      "Requirement already satisfied: openai in ./anaconda3/lib/python3.10/site-packages (0.27.8)\r\n",
      "Requirement already satisfied: requests>=2.20 in ./anaconda3/lib/python3.10/site-packages (from openai) (2.28.1)\r\n",
      "Requirement already satisfied: tqdm in ./anaconda3/lib/python3.10/site-packages (from openai) (4.64.1)\r\n",
      "Requirement already satisfied: aiohttp in ./anaconda3/lib/python3.10/site-packages (from openai) (3.8.4)\r\n",
      "Requirement already satisfied: urllib3<1.27,>=1.21.1 in ./anaconda3/lib/python3.10/site-packages (from requests>=2.20->openai) (1.26.14)\r\n",
      "Requirement already satisfied: idna<4,>=2.5 in ./anaconda3/lib/python3.10/site-packages (from requests>=2.20->openai) (3.4)\r\n",
      "Requirement already satisfied: charset-normalizer<3,>=2 in ./anaconda3/lib/python3.10/site-packages (from requests>=2.20->openai) (2.0.4)\r\n",
      "Requirement already satisfied: certifi>=2017.4.17 in ./anaconda3/lib/python3.10/site-packages (from requests>=2.20->openai) (2022.12.7)\r\n",
      "Requirement already satisfied: attrs>=17.3.0 in ./anaconda3/lib/python3.10/site-packages (from aiohttp->openai) (22.1.0)\r\n",
      "Requirement already satisfied: frozenlist>=1.1.1 in ./anaconda3/lib/python3.10/site-packages (from aiohttp->openai) (1.3.3)\r\n",
      "Requirement already satisfied: yarl<2.0,>=1.0 in ./anaconda3/lib/python3.10/site-packages (from aiohttp->openai) (1.9.2)\r\n",
      "Requirement already satisfied: async-timeout<5.0,>=4.0.0a3 in ./anaconda3/lib/python3.10/site-packages (from aiohttp->openai) (4.0.2)\r\n",
      "Requirement already satisfied: aiosignal>=1.1.2 in ./anaconda3/lib/python3.10/site-packages (from aiohttp->openai) (1.3.1)\r\n",
      "Requirement already satisfied: multidict<7.0,>=4.5 in ./anaconda3/lib/python3.10/site-packages (from aiohttp->openai) (6.0.4)\r\n"
     ]
    }
   ],
   "source": [
    "!pip install openai"
   ]
  },
  {
   "cell_type": "code",
   "execution_count": 2,
   "id": "37374209",
   "metadata": {},
   "outputs": [],
   "source": [
    "import openai"
   ]
  },
  {
   "cell_type": "code",
   "execution_count": 3,
   "id": "362e43ca",
   "metadata": {},
   "outputs": [],
   "source": [
    "import os"
   ]
  },
  {
   "cell_type": "code",
   "execution_count": 72,
   "id": "7143a835",
   "metadata": {},
   "outputs": [],
   "source": [
    "openai.api_key = os.getenv('OPENAI_API_KEY')"
   ]
  },
  {
   "cell_type": "code",
   "execution_count": 73,
   "id": "0bcdf6a9",
   "metadata": {},
   "outputs": [],
   "source": [
    "def create_test_prompt(topic,num_questions,num_possible_answers):\n",
    "    prompt = f\"Create a multiple choice quiz on the topic of {topic} consisting of {num_questions} Questions. \"\\\n",
    "             +f\"Each question should have {num_possible_answers} options. \"\\\n",
    "             +f\"Also include the correct answer for each question using the starting string 'Correct Answer:' \"\n",
    "    return prompt"
   ]
  },
  {
   "cell_type": "code",
   "execution_count": 74,
   "id": "bfa9aa06",
   "metadata": {},
   "outputs": [],
   "source": [
    "response = openai.Completion.create(engine='text-davinci-003',\n",
    "                                    prompt =  create_test_prompt('basics of python',3,3),\n",
    "                                    max_tokens = 256,\n",
    "                                    temperature = 0.7)\n",
    "                                    "
   ]
  },
  {
   "cell_type": "code",
   "execution_count": 75,
   "id": "d03347d3",
   "metadata": {},
   "outputs": [
    {
     "name": "stdout",
     "output_type": "stream",
     "text": [
      "\n",
      "\n",
      "1. What is the correct way to end a line of code in Python?\n",
      "A. ;\n",
      "B. #\n",
      "C. \\\n",
      "Correct Answer: C. \\\n",
      "\n",
      "2. What is the proper syntax for creating a comment in Python?\n",
      "A. //\n",
      "B. %\n",
      "C. #\n",
      "Correct Answer: C. #\n",
      "\n",
      "3. What is the basic data structure in Python?\n",
      "A. Strings\n",
      "B. Lists\n",
      "C. Tuples\n",
      "Correct Answer: B. Lists\n"
     ]
    }
   ],
   "source": [
    "print(response['choices'][0]['text'])"
   ]
  },
  {
   "cell_type": "code",
   "execution_count": 76,
   "id": "11920da7",
   "metadata": {},
   "outputs": [],
   "source": [
    "def create_student_view(test,num_question):\n",
    "    student_view = {1:''}\n",
    "    question_number = 1\n",
    "    for line in test.split(\"\\n\"):\n",
    "        if not line.startswith(\"Correct Answer\"):\n",
    "            student_view[question_number] += line+'\\n'\n",
    "        else:\n",
    "            if question_number < num_question:\n",
    "                question_number += 1\n",
    "                student_view[question_number] = ' '\n",
    "                \n",
    "    return student_view\n",
    "    "
   ]
  },
  {
   "cell_type": "code",
   "execution_count": 77,
   "id": "6977dc43",
   "metadata": {},
   "outputs": [],
   "source": [
    "result = create_student_view(response['choices'][0]['text'],3)"
   ]
  },
  {
   "cell_type": "code",
   "execution_count": 78,
   "id": "f0ce3a46",
   "metadata": {},
   "outputs": [
    {
     "name": "stdout",
     "output_type": "stream",
     "text": [
      "\n",
      "\n",
      "1. What is the correct way to end a line of code in Python?\n",
      "A. ;\n",
      "B. #\n",
      "C. \\\n",
      "\n",
      " \n",
      "2. What is the proper syntax for creating a comment in Python?\n",
      "A. //\n",
      "B. %\n",
      "C. #\n",
      "\n",
      " \n",
      "3. What is the basic data structure in Python?\n",
      "A. Strings\n",
      "B. Lists\n",
      "C. Tuples\n",
      "\n"
     ]
    }
   ],
   "source": [
    "for key in result:\n",
    "    print(result[key])"
   ]
  },
  {
   "cell_type": "code",
   "execution_count": 79,
   "id": "b305a01e",
   "metadata": {},
   "outputs": [],
   "source": [
    "def extract_answer(test,num_question):\n",
    "    answer = {1:''}\n",
    "    question_number = 1\n",
    "    for line in test.split(\"\\n\"):\n",
    "        if line.startswith(\"Correct Answer\"):\n",
    "            answer[question_number] += line+'\\n'\n",
    "        \n",
    "            if question_number < num_question:\n",
    "                question_number += 1\n",
    "                answer[question_number] = ''\n",
    "                \n",
    "    return answer"
   ]
  },
  {
   "cell_type": "code",
   "execution_count": 80,
   "id": "3fc46ddb",
   "metadata": {},
   "outputs": [
    {
     "data": {
      "text/plain": [
       "{1: 'Correct Answer: C. \\\\\\n',\n",
       " 2: 'Correct Answer: C. #\\n',\n",
       " 3: 'Correct Answer: B. Lists\\n'}"
      ]
     },
     "execution_count": 80,
     "metadata": {},
     "output_type": "execute_result"
    }
   ],
   "source": [
    "extract_answer(response['choices'][0]['text'],3)"
   ]
  },
  {
   "cell_type": "code",
   "execution_count": 81,
   "id": "6d482e93",
   "metadata": {},
   "outputs": [],
   "source": [
    "student_view = create_student_view(response['choices'][0]['text'],3)"
   ]
  },
  {
   "cell_type": "code",
   "execution_count": 82,
   "id": "2f58d30a",
   "metadata": {},
   "outputs": [],
   "source": [
    "answer = extract_answer(response['choices'][0]['text'],3)"
   ]
  },
  {
   "cell_type": "code",
   "execution_count": 83,
   "id": "4fd4a26b",
   "metadata": {},
   "outputs": [],
   "source": [
    "# take the exam\n",
    "def take(student_view):\n",
    "    student_answer = {}\n",
    "    for question,question_view in student_view.items():\n",
    "        print(question_view)\n",
    "        answer = input(\"Enter Your Answer: \")\n",
    "        student_answer[question] = answer\n",
    "    return student_answer\n",
    "        "
   ]
  },
  {
   "cell_type": "code",
   "execution_count": 84,
   "id": "76ea6a9c",
   "metadata": {},
   "outputs": [
    {
     "name": "stdout",
     "output_type": "stream",
     "text": [
      "\n",
      "\n",
      "1. What is the correct way to end a line of code in Python?\n",
      "A. ;\n",
      "B. #\n",
      "C. \\\n",
      "\n",
      "Enter Your Answer: c\n",
      " \n",
      "2. What is the proper syntax for creating a comment in Python?\n",
      "A. //\n",
      "B. %\n",
      "C. #\n",
      "\n",
      "Enter Your Answer: b\n",
      " \n",
      "3. What is the basic data structure in Python?\n",
      "A. Strings\n",
      "B. Lists\n",
      "C. Tuples\n",
      "\n",
      "Enter Your Answer: b\n"
     ]
    }
   ],
   "source": [
    "student_answer = take(student_view)"
   ]
  },
  {
   "cell_type": "code",
   "execution_count": 85,
   "id": "c787241e",
   "metadata": {},
   "outputs": [
    {
     "data": {
      "text/plain": [
       "{1: 'c', 2: 'b', 3: 'b'}"
      ]
     },
     "execution_count": 85,
     "metadata": {},
     "output_type": "execute_result"
    }
   ],
   "source": [
    "student_answer"
   ]
  },
  {
   "cell_type": "code",
   "execution_count": 86,
   "id": "77da58bd",
   "metadata": {},
   "outputs": [
    {
     "data": {
      "text/plain": [
       "{1: 'Correct Answer: C. \\\\\\n',\n",
       " 2: 'Correct Answer: C. #\\n',\n",
       " 3: 'Correct Answer: B. Lists\\n'}"
      ]
     },
     "execution_count": 86,
     "metadata": {},
     "output_type": "execute_result"
    }
   ],
   "source": [
    "answer"
   ]
  },
  {
   "cell_type": "code",
   "execution_count": 87,
   "id": "19dc6546",
   "metadata": {},
   "outputs": [],
   "source": [
    "def grade(correct_answer_dict,student_answer):\n",
    "    correct_answer = 0\n",
    "    for question,answers in student_answer.items():\n",
    "        if answers.upper() == correct_answer_dict[question][16]:\n",
    "            correct_answer += 1\n",
    "    grade = 100*correct_answer/len(answer)\n",
    "    \n",
    "    if grade < 60:\n",
    "        passed = \"No PASS\"\n",
    "    else:\n",
    "        passed = \"PASS\"\n",
    "    \n",
    "    return f\"{correct_answer}/{len(answer)} correct! you got {grade} grade, {passed}\" "
   ]
  },
  {
   "cell_type": "code",
   "execution_count": 88,
   "id": "2fb8f1e3",
   "metadata": {},
   "outputs": [
    {
     "data": {
      "text/plain": [
       "'2/3 correct! you got 66.66666666666667 grade, PASS'"
      ]
     },
     "execution_count": 88,
     "metadata": {},
     "output_type": "execute_result"
    }
   ],
   "source": [
    "grade(answer,student_answer)"
   ]
  },
  {
   "cell_type": "code",
   "execution_count": null,
   "id": "047271b4",
   "metadata": {},
   "outputs": [],
   "source": []
  }
 ],
 "metadata": {
  "kernelspec": {
   "display_name": "Python 3 (ipykernel)",
   "language": "python",
   "name": "python3"
  },
  "language_info": {
   "codemirror_mode": {
    "name": "ipython",
    "version": 3
   },
   "file_extension": ".py",
   "mimetype": "text/x-python",
   "name": "python",
   "nbconvert_exporter": "python",
   "pygments_lexer": "ipython3",
   "version": "3.10.9"
  }
 },
 "nbformat": 4,
 "nbformat_minor": 5
}
